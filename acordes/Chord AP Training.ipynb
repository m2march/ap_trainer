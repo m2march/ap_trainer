{
 "cells": [
  {
   "cell_type": "code",
   "execution_count": 1,
   "metadata": {
    "collapsed": true
   },
   "outputs": [],
   "source": [
    "import music21 as m21"
   ]
  },
  {
   "cell_type": "code",
   "execution_count": 5,
   "metadata": {
    "collapsed": true
   },
   "outputs": [],
   "source": [
    "## Chords\n",
    "Imaj7 = m21.chord.Chord(['c4', 'e4', 'g4', 'b4'])\n",
    "IIm7 = m21.chord.Chord(['d4', 'f4', 'a4', 'e5'])\n",
    "IIIm7 = m21.chord.Chord(['e4', 'g4', 'b4', 'd5'])\n",
    "IVmaj7 = m21.chord.Chord(['f4', 'a4', 'c4', 'e5'])\n",
    "V7 = m21.chord.Chord(['g4', 'b4', 'd5', 'f5'])\n",
    "VIm7 = m21.chord.Chord(['a4', 'c5', 'e5', 'g5'])"
   ]
  },
  {
   "cell_type": "code",
   "execution_count": 8,
   "metadata": {
    "collapsed": false
   },
   "outputs": [],
   "source": [
    "Imaj7.show?"
   ]
  },
  {
   "cell_type": "code",
   "execution_count": null,
   "metadata": {
    "collapsed": true
   },
   "outputs": [],
   "source": []
  }
 ],
 "metadata": {
  "kernelspec": {
   "display_name": "Python [conda root]",
   "language": "python",
   "name": "conda-root-py"
  },
  "language_info": {
   "codemirror_mode": {
    "name": "ipython",
    "version": 2
   },
   "file_extension": ".py",
   "mimetype": "text/x-python",
   "name": "python",
   "nbconvert_exporter": "python",
   "pygments_lexer": "ipython2",
   "version": "2.7.12"
  }
 },
 "nbformat": 4,
 "nbformat_minor": 1
}
